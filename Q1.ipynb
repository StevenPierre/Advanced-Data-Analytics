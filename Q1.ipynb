{
 "cells": [
  {
   "attachments": {},
   "cell_type": "markdown",
   "metadata": {},
   "source": [
    "# DVA HW4 Q1\n",
    "## Pagerank Algorithm\n",
    "\n",
    "Do not distribute or publish this code  \n",
    "Do not change the `#export` statements or add and other code or comments above them. They are needed for grading."
   ]
  },
  {
   "cell_type": "code",
   "execution_count": 1,
   "metadata": {},
   "outputs": [],
   "source": [
    "#export\n",
    "'''\n",
    "*** Imports ***\n",
    "    DO NOT EDIT or add anything to this section\n",
    "'''\n",
    "import numpy as np\n",
    "import time\n",
    "import argparse\n",
    "import sys"
   ]
  },
  {
   "cell_type": "markdown",
   "metadata": {},
   "source": [
    "### Update your GT username and Id"
   ]
  },
  {
   "cell_type": "code",
   "execution_count": 2,
   "metadata": {},
   "outputs": [],
   "source": [
    "#export\n",
    "def author():                                                                                             \n",
    "        return \"sdestine6\"      # replace gburdell3 with your Georgia Tech username.                                                                                             \n",
    "                                                                                              \n",
    "def gtid():                                                                                               \n",
    "    return 903761940      # replace with your GT ID number   "
   ]
  },
  {
   "cell_type": "code",
   "execution_count": 3,
   "metadata": {},
   "outputs": [],
   "source": [
    "'''\n",
    "*** Utility function ***\n",
    "    DO NOT EDIT\n",
    "'''\n",
    "def dump_results(command, iterations, result):\n",
    "    print(\"Sorting...\", file=sys.stderr)\n",
    "    sorted_result = sorted(enumerate(result), key=lambda x: x[1], reverse=True)\n",
    "    output_result = \"node_id\\tpr_value\\n\"\n",
    "    for node_id, pr_value in sorted_result[:10]:\n",
    "        output_result += \"{0}\\t{1}\\n\".format(node_id, pr_value)\n",
    "    print(output_result)\n",
    "\n",
    "    with open(command+'_iter'+str(iterations)+\".txt\",\"w\") as output_file:\n",
    "        output_file.write(output_result)"
   ]
  },
  {
   "cell_type": "markdown",
   "metadata": {},
   "source": [
    "### PageRank Class\n",
    "Please add your code as indicated below  \n",
    "You do not need to add code outside of the indicated areas"
   ]
  },
  {
   "cell_type": "code",
   "execution_count": 4,
   "metadata": {},
   "outputs": [],
   "source": [
    "#export\n",
    "class PageRank:\n",
    "    def __init__(self, edge_file):\n",
    "\n",
    "        self.node_degree = {}\n",
    "        self.max_node_id = 0\n",
    "        self.edge_file = edge_file\n",
    "\n",
    "    def read_edge_file(self, edge_file):\n",
    "        with open(edge_file) as f:\n",
    "            for line in f:\n",
    "                val = line.split('\\t')\n",
    "                yield int(val[0]), int(val[1])\n",
    "\n",
    "    \"\"\"\n",
    "    Step1: Calculate the out-degree of each node and maximum node_id of the graph.\n",
    "    Store the out-degree in class variable \"node_degree\" and maximum node id to \"max_node_id\".\n",
    "    \"\"\"\n",
    "    def calculate_node_degree(self):\n",
    "        max_source_node_id = 0\n",
    "        max_target_node_id = 0\n",
    "        for source,target in self.read_edge_file(self.edge_file):\n",
    "\n",
    "        ### STEP 1\n",
    "        ### Implement your code here\n",
    "        #############################################\n",
    "            if source in self.node_degree.keys():\n",
    "                self.node_degree[source] += 1\n",
    "            else:\n",
    "                self.node_degree[source] = 1\n",
    "\n",
    "            if source > max_source_node_id:\n",
    "                max_source_node_id = source\n",
    "            if target > max_target_node_id:\n",
    "                max_target_node_id = target\n",
    "        self.max_node_id = max([max_source_node_id, max_target_node_id])\n",
    "\n",
    "        #############################################\n",
    "\n",
    "        print(\"Max node id: {}\".format(self.max_node_id))\n",
    "        print(\"Total source number: {}\".format(len(self.node_degree)))\n",
    "\n",
    "    def get_max_node_id(self):\n",
    "        return self.max_node_id\n",
    "\n",
    "    def run_pagerank(self, node_weights,  damping_factor=0.85, iterations=10):\n",
    "\n",
    "        pr_values = [1.0 / (self.max_node_id + 1)] * (self.max_node_id + 1)\n",
    "        start_time = time.time()\n",
    "        \"\"\" \n",
    "        Step2: Implement pagerank algorithm as mentioned in lecture slides and the question.\n",
    "\n",
    "        Incoming Parameters:\n",
    "            node_weights: Probability of each node to flyout during random walk\n",
    "            damping_factor: Probability of continuing on the random walk\n",
    "            iterations: Number of iterations to run the algorithm \n",
    "            check the __main__ function to understand node_weights and max_node_id\n",
    "        \n",
    "        Use the calculated out-degree to calculate the pagerank value of each node\n",
    "        \"\"\"\n",
    "        for it in range(iterations):\n",
    "            \n",
    "            new_pr_values = [0.0] * (self.max_node_id + 1)\n",
    "            for source, target in self.read_edge_file(self.edge_file):\n",
    "\n",
    "        ### STEP 2\n",
    "        ### Implement your code here\n",
    "        #############################################\n",
    "                \n",
    "                source_part_1 = (1 - damping_factor) * node_weights[source]\n",
    "                target_part_1 = (1 - damping_factor) * node_weights[target]\n",
    "\n",
    "                if new_pr_values[source] == 0:\n",
    "                    new_pr_values[source] = source_part_1\n",
    "\n",
    "                if new_pr_values[target] == 0:\n",
    "                    new_pr_values[target] = target_part_1\n",
    "\n",
    "                summation_part = pr_values[source] / self.node_degree[source]\n",
    "                part_2 = damping_factor * summation_part\n",
    "\n",
    "                new_pr_values[target] = new_pr_values[target] + part_2\n",
    "            pr_values = new_pr_values\n",
    "\n",
    "\n",
    "        #############################################\n",
    "\n",
    "        print (\"Completed {0}/{1} iterations. {2} seconds elapsed.\".format(it + 1, iterations, time.time() - start_time))\n",
    "\n",
    "        return pr_values"
   ]
  },
  {
   "attachments": {},
   "cell_type": "markdown",
   "metadata": {},
   "source": [
    "### Simplified Pagerank"
   ]
  },
  {
   "cell_type": "code",
   "execution_count": 5,
   "metadata": {},
   "outputs": [
    {
     "name": "stdout",
     "output_type": "stream",
     "text": [
      "Max node id: 1157826\n",
      "Total source number: 374785\n",
      "Completed 10/10 iterations. 55.78042650222778 seconds elapsed.\n"
     ]
    },
    {
     "name": "stderr",
     "output_type": "stream",
     "text": [
      "Sorting...\n"
     ]
    },
    {
     "name": "stdout",
     "output_type": "stream",
     "text": [
      "node_id\tpr_value\n",
      "663930\t0.00017244046400871353\n",
      "482708\t9.409193541687528e-05\n",
      "1034017\t5.480094973243456e-05\n",
      "663559\t4.874726474408211e-05\n",
      "357530\t4.5615623513891224e-05\n",
      "1120567\t4.4870100282189497e-05\n",
      "663605\t4.3482910860663805e-05\n",
      "663682\t3.6594367527932095e-05\n",
      "1108860\t3.5276046684522986e-05\n",
      "664788\t3.503597066140541e-05\n",
      "\n",
      "Max node id: 1157826\n",
      "Total source number: 374785\n",
      "Completed 25/25 iterations. 152.0622181892395 seconds elapsed.\n"
     ]
    },
    {
     "name": "stderr",
     "output_type": "stream",
     "text": [
      "Sorting...\n"
     ]
    },
    {
     "name": "stdout",
     "output_type": "stream",
     "text": [
      "node_id\tpr_value\n",
      "663930\t0.000172438581121727\n",
      "482708\t9.409158864049367e-05\n",
      "1034017\t5.478941005079604e-05\n",
      "663559\t4.874698942960063e-05\n",
      "357530\t4.5615442797696116e-05\n",
      "1120567\t4.484712837377303e-05\n",
      "663605\t4.348263426865654e-05\n",
      "663682\t3.659435702898396e-05\n",
      "1108860\t3.5251801674277104e-05\n",
      "664788\t3.5035704161325006e-05\n",
      "\n"
     ]
    }
   ],
   "source": [
    "# Options\n",
    "file = 'network.tsv'                # Input file of the edge list - DO NOT EDIT\n",
    "command = 'simplified_pagerank'     # Command to run - DO NOT EDIT\n",
    "damping_factor = 0.85               # Damping factor - submit results for damping_factor = 0.85\n",
    "iterations = [10,25]                # Number of iterations - sumbit results for iterations = [10,25] \n",
    "\n",
    "# Run Simplified PageRank\n",
    "# DO NOT EDIT\n",
    "for i in iterations:\n",
    "    pr = PageRank(file)\n",
    "    pr.calculate_node_degree()\n",
    "    max_node_id = pr.get_max_node_id()\n",
    "    node_weights = np.ones(max_node_id + 1) / (max_node_id + 1)\n",
    "    result = pr.run_pagerank(node_weights=node_weights, iterations=i, damping_factor=damping_factor)\n",
    "    dump_results(command, i, result )"
   ]
  },
  {
   "attachments": {},
   "cell_type": "markdown",
   "metadata": {},
   "source": [
    "### Personalized Pagerank"
   ]
  },
  {
   "cell_type": "code",
   "execution_count": 6,
   "metadata": {},
   "outputs": [
    {
     "name": "stdout",
     "output_type": "stream",
     "text": [
      "Max node id: 1157826\n",
      "Total source number: 374785\n",
      "Completed 10/10 iterations. 62.780038595199585 seconds elapsed.\n"
     ]
    },
    {
     "name": "stderr",
     "output_type": "stream",
     "text": [
      "Sorting...\n"
     ]
    },
    {
     "name": "stdout",
     "output_type": "stream",
     "text": [
      "node_id\tpr_value\n",
      "663930\t0.00017490202659300127\n",
      "482708\t9.366454363639072e-05\n",
      "1034017\t5.5426152906604005e-05\n",
      "663559\t5.0100165487008155e-05\n",
      "1120567\t4.5867000796925866e-05\n",
      "357530\t4.530523364251188e-05\n",
      "663605\t4.33238014781271e-05\n",
      "663682\t3.846606032268411e-05\n",
      "1108860\t3.644144788567663e-05\n",
      "664788\t3.480795046839336e-05\n",
      "\n",
      "Max node id: 1157826\n",
      "Total source number: 374785\n",
      "Completed 25/25 iterations. 169.2000868320465 seconds elapsed.\n"
     ]
    },
    {
     "name": "stderr",
     "output_type": "stream",
     "text": [
      "Sorting...\n"
     ]
    },
    {
     "name": "stdout",
     "output_type": "stream",
     "text": [
      "node_id\tpr_value\n",
      "663930\t0.00017490014634421926\n",
      "482708\t9.366419719580323e-05\n",
      "1034017\t5.541462484622638e-05\n",
      "663559\t5.009989064050309e-05\n",
      "1120567\t4.5844047574507366e-05\n",
      "357530\t4.5305052974136255e-05\n",
      "663605\t4.332352496445167e-05\n",
      "663682\t3.846604983996159e-05\n",
      "1108860\t3.6417239560742094e-05\n",
      "664788\t3.480768441958789e-05\n",
      "\n"
     ]
    }
   ],
   "source": [
    "# Options\n",
    "file = 'network.tsv'                # Input file of the edge list - DO NOT EDIT\n",
    "command = 'personalized_pagerank'   # Command to run - DO NOT EDIT\n",
    "damping_factor = 0.85               # Damping factor - submit results for damping_factor = 0.85\n",
    "iterations = [10,25]                # Number of iterations - sumbit results for iterations = [10,25] \n",
    "\n",
    "# Run Personalized PageRank\n",
    "# DO NOT EDIT\n",
    "for i in iterations:\n",
    "    pr = PageRank(file)\n",
    "    pr.calculate_node_degree()\n",
    "    max_node_id = pr.get_max_node_id()\n",
    "    np.random.seed(gtid())\n",
    "    node_weights = np.random.rand(max_node_id + 1)\n",
    "    node_weights = node_weights/node_weights.sum()\n",
    "    result = pr.run_pagerank(node_weights=node_weights, iterations=i, damping_factor=damping_factor)\n",
    "    dump_results(command, i, result)"
   ]
  },
  {
   "cell_type": "markdown",
   "metadata": {},
   "source": [
    "### Submitting your results to gradescope\n",
    "Submit the following on Gradescope  \n",
    "* This file, Q1.ipynb\n",
    "* simplified_pagerank_iter10.txt\n",
    "* simplified_pagerank_iter25.txt\n",
    "* personalized_pagerank_iter10.txt\n",
    "* personalized_pagerank_iter25.txt\n"
   ]
  }
 ],
 "metadata": {
  "kernelspec": {
   "display_name": "DVAHW4",
   "language": "python",
   "name": "python3"
  },
  "language_info": {
   "codemirror_mode": {
    "name": "ipython",
    "version": 3
   },
   "file_extension": ".py",
   "mimetype": "text/x-python",
   "name": "python",
   "nbconvert_exporter": "python",
   "pygments_lexer": "ipython3",
   "version": "3.9.13"
  },
  "orig_nbformat": 4
 },
 "nbformat": 4,
 "nbformat_minor": 2
}
