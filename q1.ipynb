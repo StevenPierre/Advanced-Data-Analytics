{
 "cells": [
  {
   "cell_type": "markdown",
   "id": "e5905a69",
   "metadata": {},
   "source": [
    "# CSE6242 - HW3 - Q1"
   ]
  },
  {
   "cell_type": "markdown",
   "id": "09289981",
   "metadata": {},
   "source": [
    "Pyspark Imports"
   ]
  },
  {
   "cell_type": "code",
   "execution_count": 1,
   "id": "139318cb",
   "metadata": {},
   "outputs": [],
   "source": [
    "### DO NOT MODIFY THIS CELL ###\n",
    "import pyspark\n",
    "from pyspark.sql import SQLContext\n",
    "from pyspark.sql.functions import hour, when, col, date_format, to_timestamp, round, coalesce, avg\n",
    "from pyspark.sql.functions import *"
   ]
  },
  {
   "cell_type": "markdown",
   "id": "3fd9e0f8",
   "metadata": {},
   "source": [
    "Initialize PySpark Context"
   ]
  },
  {
   "cell_type": "code",
   "execution_count": 2,
   "id": "b0c18c6c",
   "metadata": {},
   "outputs": [
    {
     "name": "stderr",
     "output_type": "stream",
     "text": [
      "Setting default log level to \"WARN\".\n",
      "To adjust logging level use sc.setLogLevel(newLevel). For SparkR, use setLogLevel(newLevel).\n",
      "23/10/23 20:23:39 WARN NativeCodeLoader: Unable to load native-hadoop library for your platform... using builtin-java classes where applicable\n",
      "/usr/local/lib/python3.9/dist-packages/pyspark/sql/context.py:113: FutureWarning: Deprecated in 3.0.0. Use SparkSession.builder.getOrCreate() instead.\n",
      "  warnings.warn(\n"
     ]
    }
   ],
   "source": [
    "### DO NOT MODIFY THIS CELL ###\n",
    "sc = pyspark.SparkContext(appName=\"HW3-Q1\")\n",
    "sqlContext = SQLContext(sc)"
   ]
  },
  {
   "cell_type": "markdown",
   "id": "d68ae314",
   "metadata": {},
   "source": [
    "Define function for loading data"
   ]
  },
  {
   "cell_type": "code",
   "execution_count": 3,
   "id": "7e5bbdda",
   "metadata": {},
   "outputs": [],
   "source": [
    "### DO NOT MODIFY THIS CELL ###\n",
    "def load_data():\n",
    "    df = sqlContext.read.option(\"header\",True) \\\n",
    "     .csv(\"yellow_tripdata_2019-01_short.csv\")\n",
    "    return df"
   ]
  },
  {
   "cell_type": "markdown",
   "id": "0d52409d",
   "metadata": {},
   "source": [
    "### Q1.a"
   ]
  },
  {
   "cell_type": "markdown",
   "id": "e43f6e00",
   "metadata": {},
   "source": [
    "Perform data casting to clean incoming dataset"
   ]
  },
  {
   "cell_type": "code",
   "execution_count": 4,
   "id": "11f801b4",
   "metadata": {},
   "outputs": [],
   "source": [
    "def clean_data(df):\n",
    "    '''\n",
    "    input: df a dataframe\n",
    "    output: df a dataframe with the all the original columns\n",
    "    '''\n",
    "    \n",
    "    # START YOUR CODE HERE ---------\n",
    "    df =df.withColumn(\"passenger_count\",col(\"passenger_count\").cast('integer'))\n",
    "    df =df.withColumn(\"total_amount\",col(\"total_amount\").cast('float'))\n",
    "    df =df.withColumn(\"tip_amount\",col(\"tip_amount\").cast('float'))\n",
    "    df =df.withColumn(\"trip_distance\",col(\"trip_distance\").cast('float'))\n",
    "    df =df.withColumn(\"fare_amount\",col(\"fare_amount\").cast('float'))\n",
    "    # from string to timestamp\n",
    "    df=df.withColumn(\"tpep_pickup_datetime\",col(\"tpep_pickup_datetime\").cast('timestamp'))\n",
    "    df=df.withColumn(\"tpep_dropoff_datetime\",col(\"tpep_dropoff_datetime\").cast('timestamp')) \n",
    "\n",
    "    # END YOUR CODE HERE -----------\n",
    "    \n",
    "    return df"
   ]
  },
  {
   "cell_type": "markdown",
   "id": "d4f565d0",
   "metadata": {},
   "source": [
    "### Q1.b"
   ]
  },
  {
   "cell_type": "markdown",
   "id": "72b4f712",
   "metadata": {},
   "source": [
    "Find rate per person for based on how many passengers travel between pickup and dropoff locations. "
   ]
  },
  {
   "cell_type": "code",
   "execution_count": 5,
   "id": "4e115152",
   "metadata": {},
   "outputs": [],
   "source": [
    "def common_pair(df):\n",
    "    '''\n",
    "    input: df a dataframe\n",
    "    output: df a dataframe with following columns:\n",
    "            - PULocationID\n",
    "            - DOLocationID\n",
    "            - passenger_count\n",
    "            - per_person_rate\n",
    "            \n",
    "    per_person_rate is the total_amount per person for a given pair.\n",
    "    \n",
    "    '''\n",
    "    \n",
    "    # START YOUR CODE HERE ---------\n",
    "    df=df.groupBy(\"PULocationID\",\n",
    "                  \"DOLocationID\").agg({\"total_amount\":\"avg\",\"trip_distance\": \"avg\", \"PULocationID\":\"count\"})\n",
    "    df=df.withColumn(\"per_person_rate\", col(\"avg(total_amount)\") /\n",
    "                     col(\"avg(trip_distance)\"))\n",
    "    df=df.sort(col('count(PULocationID)').desc(), col('per_person_rate').desc())\n",
    "    df=df.select(col('PULocationID'), col('DOLocationID'),col('count(PULocationID)').alias('passenger_count'), col('per_person_rate')).limit(10)\n",
    "    # END YOUR CODE HERE -----------\n",
    "    \n",
    "    return df"
   ]
  },
  {
   "cell_type": "markdown",
   "id": "127574ab",
   "metadata": {},
   "source": [
    "### Q1.c"
   ]
  },
  {
   "cell_type": "markdown",
   "id": "36a8fd27",
   "metadata": {},
   "source": [
    "Find trips which trip distances generate the highest tip percentage."
   ]
  },
  {
   "cell_type": "code",
   "execution_count": 6,
   "id": "376c981c",
   "metadata": {},
   "outputs": [],
   "source": [
    "def distance_with_most_tip(df):\n",
    "    '''\n",
    "    input: df a dataframe\n",
    "    output: df a dataframe with following columns:\n",
    "            - trip_distance\n",
    "            - tip_percent\n",
    "            \n",
    "    trip_percent is the percent of tip out of fare_amount\n",
    "    \n",
    "    '''\n",
    "    \n",
    "    # START YOUR CODE HERE ---------\n",
    "    df = df.filter((col(\"fare_amount\").cast(\"double\") > 2.0) & (col(\"trip_distance\").cast(\"double\") > 0))\n",
    "    df = df.withColumn(\"tip_percent\", (col(\"tip_amount\").cast(\"double\") * 100) / col(\"fare_amount\").cast(\"double\"))\n",
    "    df = df.withColumn(\"rounded_trip_distance\", round(col(\"trip_distance\").cast(\"double\")))\n",
    "    df = df.groupBy(\"rounded_trip_distance\").agg(\n",
    "        avg(\"tip_percent\").alias(\"avg_tip_percent\")\n",
    "    )\n",
    "    df = df.orderBy(col(\"avg_tip_percent\").desc())\n",
    "    df = df.limit(15)\n",
    "    df = df.select(col(\"rounded_trip_distance\").alias(\"trip_distance\"), col(\"avg_tip_percent\").alias(\"tip_percent\"))\n",
    "    # END YOUR CODE HERE -----------\n",
    "    \n",
    "    return df"
   ]
  },
  {
   "cell_type": "markdown",
   "id": "f0172fe6",
   "metadata": {},
   "source": [
    "### Q1.d"
   ]
  },
  {
   "cell_type": "markdown",
   "id": "4613c906",
   "metadata": {},
   "source": [
    "Determine the average speed at different times of day."
   ]
  },
  {
   "cell_type": "code",
   "execution_count": 22,
   "id": "abff9e24",
   "metadata": {},
   "outputs": [],
   "source": [
    "def time_with_most_traffic(df):\n",
    "    '''\n",
    "    input: df a dataframe\n",
    "    output: df a dataframe with following columns:\n",
    "            - time_of_day\n",
    "            - am_avg_speed\n",
    "            - pm_avg_speed\n",
    "            \n",
    "    trip_percent is the percent of tip out of fare_amount\n",
    "    \n",
    "    '''\n",
    "    \n",
    "    # START YOUR CODE HERE ---------\n",
    "    # Extract the hour from the pickup time\n",
    "    df = df.withColumn(\"hour\", hour(col(\"tpep_pickup_datetime\")))\n",
    "\n",
    "    # Calculate trip time in seconds\n",
    "    df = df.withColumn(\"trip_time_in_secs\", (unix_timestamp(col(\"tpep_dropoff_datetime\")) - unix_timestamp(col(\"tpep_pickup_datetime\"))))\n",
    "\n",
    "    # Categorize each trip as AM or PM based on the hour\n",
    "    df = df.withColumn(\"ampm\", when(col(\"hour\") < 12, \"AM\").otherwise(\"PM\"))\n",
    "\n",
    "    # Calculate average speed (distance per hour) for each AM and PM\n",
    "    df = df.groupBy(\"hour\", \"ampm\").agg(\n",
    "        avg(col(\"trip_distance\") / (col(\"trip_time_in_secs\") / 3600)).alias(\"avg_speed\")\n",
    "    )\n",
    "\n",
    "    # Format the time of day in 12-hour time\n",
    "    df = df.withColumn(\"formatted_hour\", when(col(\"hour\") < 12, col(\"hour\")).otherwise(col(\"hour\") - 12))\n",
    "\n",
    "    # Pivot the data to have AM and PM columns\n",
    "    df = df.groupBy(\"formatted_hour\").pivot(\"ampm\").agg(avg(col(\"avg_speed\")))\n",
    "\n",
    "    # Ensure all hours from 0-11 are included (AM and PM)\n",
    "    df = df.union(\n",
    "        df.select(\n",
    "            (col(\"formatted_hour\") + 12).alias(\"formatted_hour\"),\n",
    "            col(\"AM\"),\n",
    "            col(\"PM\")\n",
    "        )\n",
    "    ).orderBy(\"formatted_hour\")\n",
    "\n",
    "    # Rename the columns\n",
    "    df = df.select(\n",
    "        col(\"formatted_hour\").alias(\"time_of_day\"),\n",
    "        col(\"AM\").alias(\"am_avg_speed\"),\n",
    "        col(\"PM\").alias(\"pm_avg_speed\")\n",
    "    )\n",
    "    # END YOUR CODE HERE -----------\n",
    "    \n",
    "    return df"
   ]
  },
  {
   "cell_type": "markdown",
   "id": "34cbd7b9",
   "metadata": {},
   "source": [
    "### The below cells are for you to investigate your solutions and will not be graded\n",
    "## Ensure they are commented out prior to submitting to Gradescope to avoid errors"
   ]
  },
  {
   "cell_type": "code",
   "execution_count": 8,
   "id": "bf9abefb",
   "metadata": {},
   "outputs": [],
   "source": [
    "##df = load_data()\n",
    "##df = clean_data(df)"
   ]
  },
  {
   "cell_type": "code",
   "execution_count": 9,
   "id": "cfa96f41",
   "metadata": {},
   "outputs": [
    {
     "name": "stderr",
     "output_type": "stream",
     "text": [
      "[Stage 1:>                                                          (0 + 1) / 1]\r"
     ]
    },
    {
     "name": "stdout",
     "output_type": "stream",
     "text": [
      "+------------+------------+---------------+------------------+\n",
      "|PULocationID|DOLocationID|passenger_count|   per_person_rate|\n",
      "+------------+------------+---------------+------------------+\n",
      "|         264|         264|             97| 5.482259531398455|\n",
      "|         239|         238|             34| 8.395489315120459|\n",
      "|         237|         236|             34|7.1150794250423965|\n",
      "|         236|         236|             24|12.230708730972086|\n",
      "|          79|          79|             23|10.641212116864102|\n",
      "|         142|         239|             23|10.056728351507015|\n",
      "|         148|          79|             23|  9.72959679025766|\n",
      "|         263|         141|             23| 7.301437441278104|\n",
      "|         141|         263|             22| 6.897755674061171|\n",
      "|         170|         170|             21| 9.681594815392343|\n",
      "+------------+------------+---------------+------------------+\n",
      "\n"
     ]
    },
    {
     "name": "stderr",
     "output_type": "stream",
     "text": [
      "                                                                                \r"
     ]
    }
   ],
   "source": [
    "#common_pair(df).show()"
   ]
  },
  {
   "cell_type": "code",
   "execution_count": 10,
   "id": "8e42b46a",
   "metadata": {},
   "outputs": [
    {
     "name": "stdout",
     "output_type": "stream",
     "text": [
      "+-------------+------------------+\n",
      "|trip_distance|       tip_percent|\n",
      "+-------------+------------------+\n",
      "|          1.0|16.948128912934433|\n",
      "|          0.0| 15.42138785436327|\n",
      "|          2.0|15.316306992357612|\n",
      "|         17.0|15.221903908010676|\n",
      "|          5.0| 14.79129696426021|\n",
      "|          3.0|14.467840957137605|\n",
      "|         21.0|14.318693304544306|\n",
      "|         19.0|14.024168248325521|\n",
      "|          9.0|13.566757631743657|\n",
      "|          4.0|13.548640673302767|\n",
      "|          6.0|13.301328970560771|\n",
      "|          8.0|11.935883822973539|\n",
      "|         23.0|11.666666666666666|\n",
      "|         10.0|11.469710538185623|\n",
      "|         18.0| 11.40584794093632|\n",
      "+-------------+------------------+\n",
      "\n"
     ]
    }
   ],
   "source": [
    "#distance_with_most_tip(df).show()"
   ]
  },
  {
   "cell_type": "code",
   "execution_count": 23,
   "id": "4f558c64",
   "metadata": {
    "scrolled": true
   },
   "outputs": [
    {
     "name": "stdout",
     "output_type": "stream",
     "text": [
      "+-----------+-----------------+-------------------+\n",
      "|time_of_day|     am_avg_speed|       pm_avg_speed|\n",
      "+-----------+-----------------+-------------------+\n",
      "|          0|12.17564301026818|               NULL|\n",
      "|          1|10.87329879921813|  4.486486396274051|\n",
      "|          3|             NULL|                0.0|\n",
      "|          4|             NULL|                0.0|\n",
      "|          5|             NULL| 1.8609359136845776|\n",
      "|          6|             NULL|  9.989847870647605|\n",
      "|          7|             NULL|0.18415305490417713|\n",
      "|          8|             NULL|  6.433583983527856|\n",
      "|         10|             NULL| 11.452775401547134|\n",
      "|         11|             NULL|  13.29377144720091|\n",
      "|         12|12.17564301026818|               NULL|\n",
      "|         13|10.87329879921813|  4.486486396274051|\n",
      "|         15|             NULL|                0.0|\n",
      "|         16|             NULL|                0.0|\n",
      "|         17|             NULL| 1.8609359136845776|\n",
      "|         18|             NULL|  9.989847870647605|\n",
      "|         19|             NULL|0.18415305490417713|\n",
      "|         20|             NULL|  6.433583983527856|\n",
      "|         22|             NULL| 11.452775401547134|\n",
      "|         23|             NULL|  13.29377144720091|\n",
      "+-----------+-----------------+-------------------+\n",
      "\n"
     ]
    }
   ],
   "source": [
    "#time_with_most_traffic(df).show()"
   ]
  }
 ],
 "metadata": {
  "kernelspec": {
   "display_name": "Python 3 (ipykernel)",
   "language": "python",
   "name": "python3"
  },
  "language_info": {
   "codemirror_mode": {
    "name": "ipython",
    "version": 3
   },
   "file_extension": ".py",
   "mimetype": "text/x-python",
   "name": "python",
   "nbconvert_exporter": "python",
   "pygments_lexer": "ipython3",
   "version": "3.9.2"
  }
 },
 "nbformat": 4,
 "nbformat_minor": 5
}
